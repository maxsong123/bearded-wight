{
 "metadata": {
  "name": ""
 },
 "nbformat": 3,
 "nbformat_minor": 0,
 "worksheets": [
  {
   "cells": [
    {
     "cell_type": "code",
     "collapsed": false,
     "input": [
      "import pandas as pd\n",
      "import numpy as np\n",
      "from dateutil.parser import *"
     ],
     "language": "python",
     "metadata": {},
     "outputs": [],
     "prompt_number": 210
    },
    {
     "cell_type": "code",
     "collapsed": false,
     "input": [
      "df = pd.read_csv('CCAR_Indices',sep='\\t',parse_dates=True,header=None)"
     ],
     "language": "python",
     "metadata": {},
     "outputs": [],
     "prompt_number": 211
    },
    {
     "cell_type": "code",
     "collapsed": false,
     "input": [
      "df"
     ],
     "language": "python",
     "metadata": {},
     "outputs": []
      }
     ],
     "prompt_number": 212
    },
    {
     "cell_type": "code",
     "collapsed": false,
     "input": [
      "#map all column headers to unique values by combining two different entries\n",
      "category_annotation = df.columns"
     ],
     "language": "python",
     "metadata": {},
     "outputs": [],
     "prompt_number": 213
    },
    {
     "cell_type": "code",
     "collapsed": false,
     "input": [
      "h1=df.ix[0,:]\n",
      "h2=df.ix[1,:]\n",
      "h3=df.ix[2,:]\n",
      "h4=df.ix[3,:]"
     ],
     "language": "python",
     "metadata": {},
     "outputs": [],
     "prompt_number": 214
    },
    {
     "cell_type": "code",
     "collapsed": false,
     "input": [
      "print len(h1),len(h2),len(h3),len(h4) "
     ],
     "language": "python",
     "metadata": {},
     "outputs": [
      {
       "output_type": "stream",
       "stream": "stdout",
       "text": [
        "320 320 320 320\n"
       ]
      }
     ],
     "prompt_number": 215
    },
    {
     "cell_type": "code",
     "collapsed": false,
     "input": [
      "#filter the nan's in the header\n",
      "def filter(item):\n",
      "    try: \n",
      "        if np.isnan(item):\n",
      "            print \"removing nan\"\n",
      "            return \"\"\n",
      "    except:\n",
      "        if item:\n",
      "            print \"string-stripping\"\n",
      "            return str(item).strip().replace(\" \",\"-\")\n",
      "        else:\n",
      "            return \"\"\n",
      "\n",
      "combined_header = []\n",
      "for i in range(len(h1)):\n",
      "    tmp = filter(h1[i])+\"_\"+filter(h2[i])+\"_\"+filter(h3[i])+\"_\"+filter(h4[i])\n",
      "    combined_header.append(tmp)"
     ],
     "language": "python",
     "metadata": {},
     "outputs": []
     "prompt_number": 216
    },
    {
     "cell_type": "code",
     "collapsed": false,
     "input": [
      "#print new collapsed header\n",
      "combined_header"
     ],
     "language": "python",
     "metadata": {},
     "outputs": [],
     "prompt_number": 217
    },
    {
     "cell_type": "code",
     "collapsed": false,
     "input": [
      "newdf = df.copy(deep=True)"
     ],
     "language": "python",
     "metadata": {},
     "outputs": [],
     "prompt_number": 218
    },
    {
     "cell_type": "code",
     "collapsed": false,
     "input": [
      "#drop the first 4 rows as we have now combined them into a header\n",
      "newdf = newdf.ix[4:]"
     ],
     "language": "python",
     "metadata": {},
     "outputs": [],
     "prompt_number": 219
    },
    {
     "cell_type": "code",
     "collapsed": false,
     "input": [
      "newdf.columns = combined_header"
     ],
     "language": "python",
     "metadata": {},
     "outputs": [],
     "prompt_number": 220
    },
    {
     "cell_type": "code",
     "collapsed": false,
     "input": [
      "#after parsing the date - want to just convert parsed date into days since 2000 01 01\n",
      "def map_to_days(element):\n",
      "    return parse(element)\n",
      "\n",
      "def map_to_days_since(element):\n",
      "    return parse(element) - datetime.datetime(2000,1,1)"
     ],
     "language": "python",
     "metadata": {},
     "outputs": [],
     "prompt_number": 221
    },
    {
     "cell_type": "code",
     "collapsed": false,
     "input": [
      "time_column = newdf['___Date'].applymap(lambda x: map_to_days(x))"
     ],
     "language": "python",
     "metadata": {},
     "outputs": [],
     "prompt_number": 222
    },
    {
     "cell_type": "code",
     "collapsed": false,
     "input": [
      "newdf.index = time_column['___Date']"
     ],
     "language": "python",
     "metadata": {},
     "outputs": [],
     "prompt_number": 223
    },
    {
     "cell_type": "code",
     "collapsed": false,
     "input": [
      "#there are 4 duplicates, find them using counter\n",
      "from collections import Counter\n",
      "[(k,v) for k,v in Counter(combined_header).items() if v > 1]"
     ],
     "language": "python",
     "metadata": {},
     "outputs": []
      }
     ],
     "prompt_number": 224
    },
    {
     "cell_type": "code",
     "collapsed": false,
     "input": [
      "#drop columns that are ___ and have no values. \n",
      "newdf = newdf.T.groupby(level=0).first().T"
     ],
     "language": "python",
     "metadata": {},
     "outputs": [],
     "prompt_number": 225
    },
    {
     "cell_type": "code",
     "collapsed": false,
     "input": [
      "sampledata = newdf[['Equities__INDU-Index_PX_LAST','Equities__INDU-Index_PX_VOLUME']]"
     ],
     "language": "python",
     "metadata": {},
     "outputs": [],
     "prompt_number": 226
    },
    {
     "cell_type": "code",
     "collapsed": false,
     "input": [
      "#function removes commas in number\n",
      "def num(element):\n",
      "    try: \n",
      "        element = float(element.replace(\",\",\"\"))\n",
      "        return element\n",
      "    except:\n",
      "        return element"
     ],
     "language": "python",
     "metadata": {},
     "outputs": [],
     "prompt_number": 227
    },
    {
     "cell_type": "code",
     "collapsed": false,
     "input": [
      "numeric_sample_data= newdf.applymap(lambda x: num(x))"
     ],
     "language": "python",
     "metadata": {},
     "outputs": [],
     "prompt_number": 228
    },
    {
     "cell_type": "code",
     "collapsed": false,
     "input": [
      "numeric_sample_data"
     ],
     "language": "python",
     "metadata": {},
     "outputs": []
      }
     ],
     "prompt_number": 229
    },
    {
     "cell_type": "code",
     "collapsed": false,
     "input": [
      "#grab all the columns that are not null\n",
      "print numeric_sample_data.shape\n",
      "b = numeric_sample_data.dropna(axis=1,how='all')\n",
      "c = b.dropna(axis=0,how='all')\n",
      "# print dir(numeric_sample_data['Credit___BARC-CDS-EUR-SR-5Y-Corp'])\n",
      "# np.isnan(numeric_sample_data['Credit___BARC-CDS-EUR-SR-5Y-Corp'].tolist())"
     ],
     "language": "python",
     "metadata": {},
     "outputs": [
      {
       "output_type": "stream",
       "stream": "stdout",
       "text": [
        "(5264, 316)\n"
       ]
      }
     ],
     "prompt_number": 230
    },
    {
     "cell_type": "code",
     "collapsed": false,
     "input": [
      "#summary of the data - basically there are some rows (ex. Credit___BARC-CDS-EUR-SR-5Y-Corp)\n",
      "#that we have data for a subset of the time. So if we want to correlation, we need to \n",
      "#first intersect two indices. \n",
      "def WTF(x):\n",
      "    print x\n",
      "    try: \n",
      "        return float(x.replace(\",\",\"\"))\n",
      "    except:\n",
      "        return x\n",
      "numeric_sample_data.applymap(lambda x: WTF(x))"
     ],
     "language": "python",
     "metadata": {},
     "outputs": [],
     "prompt_number": 233
    },
    {
     "cell_type": "code",
     "collapsed": false,
     "input": [
      "blah = c['Equities_Australia_Total-Market_Citi-Customer-/-Total-Market']\n",
      "blah.apply(lambda x: isinstance(x,str))\n",
      "print blah['2014-05-16']\n",
      "print type(blah['2014-05-16'])"
     ],
     "language": "python",
     "metadata": {},
     "outputs": [
      {
       "output_type": "stream",
       "stream": "stdout",
       "text": [
        "0.067695877\n",
        "<type 'numpy.float64'>\n"
       ]
      }
     ],
     "prompt_number": 187
    },
    {
     "cell_type": "code",
     "collapsed": false,
     "input": [
      "#lag function\n",
      "def NanSafe(function):\n",
      "    def wrapper(*args,**kwargs):\n",
      "        assert(len(list(args))==1)\n",
      "        x = float(args[0])\n",
      "        if not np.isnan(x):\n",
      "            return function(x)\n",
      "        else: \n",
      "            return x\n",
      "    return wrapper\n",
      "\n",
      "@NanSafe\n",
      "def logNanSafe(x):\n",
      "    return np.log(x)\n",
      "@NanSafe\n",
      "def sqNanSafe(x):\n",
      "    return np.power(x,2)\n",
      "\n",
      "def lag(df,column,lag):\n",
      "    df[column+\"_Lag{}\".format(lag)] = df[column].shift(-1*lag)\n",
      "\n",
      "def logCol(df,column):\n",
      "    df[column+\"_Log\"] = df[column].apply(lambda x: logNanSafe(x))\n",
      "def square(df,column):\n",
      "    df[column+\"_Sq\"] = df[column].apply(lambda x: sqNanSafe(x))\n",
      "def difference(df,column,lag):\n",
      "    df[column+\"_DiffLag{}\".format(lag)] = df[column] - df[column].shift(-1*lag)\n",
      "    \n",
      "def run(df,title):    \n",
      "    lag(df,title,1)\n",
      "    logCol(df,title)\n",
      "    square(df,title)\n",
      "    difference(df,title,5)\n",
      "\n",
      "run(c,'Equities__VIX-Index_PX_LAST')"
     ],
     "language": "python",
     "metadata": {},
     "outputs": [],
     "prompt_number": 251
    },
    {
     "cell_type": "code",
     "collapsed": false,
     "input": [
      "c[[col for col in c.columns if 'Equities__VIX-Index_PX_LAST' in col]]"
     ],
     "language": "python",
     "metadata": {},
     "outputs": [
      {
       "html": [
        "<pre>\n",
        "&lt;class 'pandas.core.frame.DataFrame'&gt;\n",
        "DatetimeIndex: 5264 entries, 2000-01-01 00:00:00 to 2014-05-30 00:00:00\n",
        "Data columns (total 5 columns):\n",
        "Equities__VIX-Index_PX_LAST             5263  non-null values\n",
        "Equities__VIX-Index_PX_LAST_Lag1        5262  non-null values\n",
        "Equities__VIX-Index_PX_LAST_Log         5263  non-null values\n",
        "Equities__VIX-Index_PX_LAST_Sq          5263  non-null values\n",
        "Equities__VIX-Index_PX_LAST_DiffLag5    5258  non-null values\n",
        "dtypes: float64(5)\n",
        "</pre>"
       ],
       "metadata": {},
       "output_type": "pyout",
       "prompt_number": 253,
       "text": [
        "<class 'pandas.core.frame.DataFrame'>\n",
        "DatetimeIndex: 5264 entries, 2000-01-01 00:00:00 to 2014-05-30 00:00:00\n",
        "Data columns (total 5 columns):\n",
        "Equities__VIX-Index_PX_LAST             5263  non-null values\n",
        "Equities__VIX-Index_PX_LAST_Lag1        5262  non-null values\n",
        "Equities__VIX-Index_PX_LAST_Log         5263  non-null values\n",
        "Equities__VIX-Index_PX_LAST_Sq          5263  non-null values\n",
        "Equities__VIX-Index_PX_LAST_DiffLag5    5258  non-null values\n",
        "dtypes: float64(5)"
       ]
      }
     ],
     "prompt_number": 253
    },
    {
     "cell_type": "code",
     "collapsed": false,
     "input": [
      "c['Equities__VIX-Index_PX_LAST'].dropna()"
     ],
     "language": "python",
     "metadata": {},
     "outputs": []
      }
     ],
     "prompt_number": 247
    },
    {
     "cell_type": "code",
     "collapsed": false,
     "input": [
      "c['Equities__VIX-Index_PX_LAST'].dropna()"
     ],
     "language": "python",
     "metadata": {},
     "outputs": []
      }
     ],
     "prompt_number": 255
    },
    {
     "cell_type": "code",
     "collapsed": false,
     "input": [
      "#add a time thing on there to convert to epoch\n",
      "#week day - weekday, year, month, \n",
      "dir(parse(c['___Date'].ix[0]))"
     ],
     "language": "python",
     "metadata": {},
     "outputs": []
      }
     ],
     "prompt_number": 260
    },
    {
     "cell_type": "code",
     "collapsed": false,
     "input": [
      "c.to_csv('file.csv',index=True,header=True,sep=',')"
     ],
     "language": "python",
     "metadata": {},
     "outputs": [],
     "prompt_number": 256
    },
    {
     "cell_type": "code",
     "collapsed": false,
     "input": [],
     "language": "python",
     "metadata": {},
     "outputs": []
    }
   ],
   "metadata": {}
  }
 ]
}