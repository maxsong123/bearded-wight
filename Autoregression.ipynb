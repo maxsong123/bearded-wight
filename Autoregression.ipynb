{
 "metadata": {
  "name": ""
 },
 "nbformat": 3,
 "nbformat_minor": 0,
 "worksheets": [
  {
   "cells": [
    {
     "cell_type": "code",
     "collapsed": false,
     "input": [
      "import pandas as pd\n",
      "import numpy as np\n",
      "import pylab as pl\n",
      "from matplotlib.collections import LineCollection"
     ],
     "language": "python",
     "metadata": {},
     "outputs": [],
     "prompt_number": 60
    },
    {
     "cell_type": "code",
     "collapsed": false,
     "input": [
      "f = pd.read_csv('file.csv')"
     ],
     "language": "python",
     "metadata": {},
     "outputs": [],
     "prompt_number": 4
    },
    {
     "cell_type": "code",
     "collapsed": false,
     "input": [
      "for c in f.columns:\n",
      "    print c"
     ],
     "language": "python",
     "metadata": {},
     "outputs": [
      {
       "output_type": "stream",
       "stream": "stdout",
       "text": [
        "___Date\n",
        "Commodities___CL1-Comdty\n",
        "Commodities___DJUBS-Index\n",
        "Commodities___FN1-Comdty\n",
        "Commodities___NG1-Comdty\n",
        "Commodities___XAU-Curncy\n",
        "Credit___BARC-CDS-EUR-SR-5Y-Corp\n",
        "Credit___BOFA-CDS-USD-SR-5YR-CORP\n",
        "Credit___CINC-CDS-USD-SR-5YR-CORP\n",
        "Credit___CLO-Issuance---Citi\n",
        "Credit___CLO-Issuance---Citi-Mkt-Share\n",
        "Credit___CLO-Issuance---Market\n",
        "Credit___CRDSUI-CDS-EUR-SR-5YR-CORP\n",
        "Credit___DB-CDS-EUR-SR-5YR-CORP\n",
        "Credit___GS-CDS-USD-SR-5YR-CORP\n",
        "Credit___JPMCC-CDS-USD-SR-5YR-CORP\n",
        "Credit___MOVE-Index\n",
        "Credit___MS-CDS-USD-SR-5YR-CORP\n",
        "Credit___NTMBHV-Index\n",
        "Credit___NTMBIV-Index\n",
        "Credit___UBS-CDS-EUR-SR-5YR-CORP\n",
        "Credit___VIX\n",
        "Equities_Americas_Citi-Volumes_Citi----Customer-Related\n",
        "Equities_Americas_Citi-Volumes_Citi----Other\n",
        "Equities_Americas_Citi-Volumes_Citi---Total-Volume\n",
        "Equities_Americas_Total-Market_*-Total-Volume\n",
        "Equities_Americas_Total-Market_Citi-Customer-/-Total-Market\n",
        "Equities_Americas_Total-Market_Citi-Total-/-Total-Market\n",
        "Equities_Australia_Citi-Volumes_Citi----Customer-Related\n",
        "Equities_Australia_Citi-Volumes_Citi----Other\n",
        "Equities_Australia_Citi-Volumes_Citi---Total-Volume\n",
        "Equities_Australia_Total-Market_*-Total-Volume\n",
        "Equities_Australia_Total-Market_Citi-Customer-/-Total-Market\n",
        "Equities_Australia_Total-Market_Citi-Total-/-Total-Market\n",
        "Equities_EMEA_Citi-Volumes_Citi----Customer-Related\n",
        "Equities_EMEA_Citi-Volumes_Citi----Other\n",
        "Equities_EMEA_Citi-Volumes_Citi---Total-Volume\n",
        "Equities_EMEA_Total-Market_*-Total-Volume\n",
        "Equities_EMEA_Total-Market_Citi-Customer-/-Total-Market\n",
        "Equities_EMEA_Total-Market_Citi-Total-/-Total-Market\n",
        "Equities_Global_Citi-Volumes_Citi----Customer-Related\n",
        "Equities_Global_Citi-Volumes_Citi----Other\n",
        "Equities_Global_Citi-Volumes_Citi---Total-Volume\n",
        "Equities_Global_Total-Market_*-Total-Volume\n",
        "Equities_Global_Total-Market_Citi-Customer-/-Total-Market\n",
        "Equities_Global_Total-Market_Citi-Total-/-Total-Market\n",
        "Equities_HK_Citi-Volumes_Citi----Customer-Related\n",
        "Equities_HK_Citi-Volumes_Citi----Other\n",
        "Equities_HK_Citi-Volumes_Citi---Total-Volume\n",
        "Equities_HK_Total-Market_*-Total-Volume\n",
        "Equities_HK_Total-Market_Citi-Customer-/-Total-Market\n",
        "Equities_HK_Total-Market_Citi-Total-/-Total-Market\n",
        "Equities_Japan_Citi-Volumes_Citi----Customer-Related\n",
        "Equities_Japan_Citi-Volumes_Citi----Other\n",
        "Equities_Japan_Citi-Volumes_Citi---Total-Volume\n",
        "Equities_Japan_Total-Market_*-Total-Volume\n",
        "Equities_Japan_Total-Market_Citi-Customer-/-Total-Market\n",
        "Equities_Japan_Total-Market_Citi-Total-/-Total-Market\n",
        "Equities__AS51-Index_PX_LAST\n",
        "Equities__AS51-Index_PX_VOLUME\n",
        "Equities__CAC-Index_PX_LAST\n",
        "Equities__CAC-Index_PX_VOLUME\n",
        "Equities__CCMP-Index_PX_LAST\n",
        "Equities__CCMP-Index_PX_VOLUME\n",
        "Equities__DXFAM30T-Index_PX_LAST\n",
        "Equities__FX5E-Index_PX_LAST\n",
        "Equities__HSI-Index_PX_LAST\n",
        "Equities__HSI-Index_PX_VOLUME\n",
        "Equities__INDU-Index_PX_LAST\n",
        "Equities__INDU-Index_PX_VOLUME\n",
        "Equities__KOSPI-Index_PX_LAST\n",
        "Equities__KOSPI-Index_PX_VOLUME\n",
        "Equities__NKY-Index_PX_LAST\n",
        "Equities__NKY-Index_PX_VOLUME\n",
        "Equities__SHCOMP-Index_PX_LAST\n",
        "Equities__SHCOMP-Index_PX_VOLUME\n",
        "Equities__SHSZ300-Index_PX_LAST\n",
        "Equities__SHSZ300-Index_PX_VOLUME\n",
        "Equities__SPX-Index_PX_LAST\n",
        "Equities__SPX-Index_PX_VOLUME\n",
        "Equities__TWSE-Index_PX_LAST\n",
        "Equities__TWSE-Index_PX_VOLUME\n",
        "Equities__UKX-Index_PX_LAST\n",
        "Equities__UKX-Index_PX_VOLUME\n",
        "Equities__UXA-Index_PX_LAST\n",
        "Equities__UXA-Index_PX_VOLUME\n",
        "Equities__VIX-Index_PX_LAST\n",
        "Equities___000001.SS\n",
        "Equities___399001.SZ\n",
        "Equities___AXJO\n",
        "Equities___BSESN\n",
        "Equities___BVSP\n",
        "Equities___DJI\n",
        "Equities___FCHI\n",
        "Equities___FTSE\n",
        "Equities___GDAXI\n",
        "Equities___GSPC\n",
        "Equities___HSI\n",
        "Equities___IXIC\n",
        "Equities___KS11\n",
        "Equities___N225\n",
        "Equities___NSEI\n",
        "Equities___RTS.RS\n",
        "Equities___STOXX50E\n",
        "Equities___TWII\n",
        "Equities___VIX\n",
        "G10-FX;-Local-Markets___ADCV10-Curncy\n",
        "G10-FX;-Local-Markets___AUDCADH1M-Curncy\n",
        "G10-FX;-Local-Markets___AUDCADV3M-Curncy\n",
        "G10-FX;-Local-Markets___AUDJPYH1M-Curncy\n",
        "G10-FX;-Local-Markets___AUDJPYV3M-Curncy\n",
        "G10-FX;-Local-Markets___AUDNZDH1M-Curncy\n",
        "G10-FX;-Local-Markets___AUDNZDV3M-Curncy\n",
        "G10-FX;-Local-Markets___AUDUSDH1M-Curncy\n",
        "G10-FX;-Local-Markets___AUDUSDV3M-Curncy\n",
        "G10-FX;-Local-Markets___BPCV1-Curncy\n",
        "G10-FX;-Local-Markets___BPCV10-Curncy\n",
        "G10-FX;-Local-Markets___BPCV2-Curncy\n",
        "G10-FX;-Local-Markets___BPCV3-Curncy\n",
        "G10-FX;-Local-Markets___CADJPYH1M-Curncy\n",
        "G10-FX;-Local-Markets___CADJPYV3M-Curncy\n",
        "G10-FX;-Local-Markets___CDCV010-Curncy\n",
        "G10-FX;-Local-Markets___CHFJPYH1M-Curncy\n",
        "G10-FX;-Local-Markets___CHFJPYV3M-Curncy\n",
        "G10-FX;-Local-Markets___EUCV1-Curncy\n",
        "G10-FX;-Local-Markets___EUCV10-Curncy\n",
        "G10-FX;-Local-Markets___EUCV2-Curncy\n",
        "G10-FX;-Local-Markets___EUCV3-Curncy\n",
        "G10-FX;-Local-Markets___EURAUDH1M-Curncy\n",
        "G10-FX;-Local-Markets___EURAUDV3M-Curncy\n",
        "G10-FX;-Local-Markets___EURCADH1M-Curncy\n",
        "G10-FX;-Local-Markets___EURCADV3M-Curncy\n",
        "G10-FX;-Local-Markets___EURCHFH1M-Curncy\n",
        "G10-FX;-Local-Markets___EURCHFV3M-Curncy\n",
        "G10-FX;-Local-Markets___EURCZKV3M-Curncy\n",
        "G10-FX;-Local-Markets___EURGBPH1M-Curncy\n",
        "G10-FX;-Local-Markets___EURGBPV3M-Curncy\n",
        "G10-FX;-Local-Markets___EURHUFH1M-Curncy\n",
        "G10-FX;-Local-Markets___EURHUFV3M-Curncy\n",
        "G10-FX;-Local-Markets___EURILSH1M-Curncy\n",
        "G10-FX;-Local-Markets___EURILSV3M-Curncy\n",
        "G10-FX;-Local-Markets___EURJPYH1M-Curncy\n",
        "G10-FX;-Local-Markets___EURJPYV3M-Curncy\n",
        "G10-FX;-Local-Markets___EURNOKH1M-Curncy\n",
        "G10-FX;-Local-Markets___EURNOKV3M-Curncy\n",
        "G10-FX;-Local-Markets___EURNZDH1M-Curncy\n",
        "G10-FX;-Local-Markets___EURNZDV3M-Curncy\n",
        "G10-FX;-Local-Markets___EURPLNV3M-Curncy\n",
        "G10-FX;-Local-Markets___EURRUBV3M-Curncy\n",
        "G10-FX;-Local-Markets___EURSEKH1M-Curncy\n",
        "G10-FX;-Local-Markets___EURSEKV3M-Curncy\n",
        "G10-FX;-Local-Markets___EURTRYV3M-Curncy\n",
        "G10-FX;-Local-Markets___EURUSDH1M-Curncy\n",
        "G10-FX;-Local-Markets___EURUSDV3M-Curncy\n",
        "G10-FX;-Local-Markets___EURZARH1M-Curncy\n",
        "G10-FX;-Local-Markets___EURZARV3M-Curncy\n",
        "G10-FX;-Local-Markets___EUSF1A-Curncy\n",
        "G10-FX;-Local-Markets___EUSF2A-Curncy\n",
        "G10-FX;-Local-Markets___EUSF3A-Curncy\n",
        "G10-FX;-Local-Markets___EUSF4A-Curncy\n",
        "G10-FX;-Local-Markets___EUSF5A-Curncy\n",
        "G10-FX;-Local-Markets___GBPAUDH1M-Curncy\n",
        "G10-FX;-Local-Markets___GBPAUDV3M-Curncy\n",
        "G10-FX;-Local-Markets___GBPCHFH1M-Curncy\n",
        "G10-FX;-Local-Markets___GBPCHFV3M-Curncy\n",
        "G10-FX;-Local-Markets___GBPJPYH1M-Curncy\n",
        "G10-FX;-Local-Markets___GBPJPYV3M-Curncy\n",
        "G10-FX;-Local-Markets___GBPUSDH1M-Curncy\n",
        "G10-FX;-Local-Markets___GBPUSDV3M-Curncy\n",
        "G10-FX;-Local-Markets___GPSF1A-Curncy\n",
        "G10-FX;-Local-Markets___GPSF2A-Curncy\n",
        "G10-FX;-Local-Markets___GPSF3A-Curncy\n",
        "G10-FX;-Local-Markets___GPSF4A-Curncy\n",
        "G10-FX;-Local-Markets___GPSF5A-Curncy\n",
        "G10-FX;-Local-Markets___JYCV10-Curncy\n",
        "G10-FX;-Local-Markets___NDCV10-Curncy\n",
        "G10-FX;-Local-Markets___NZDCADH1M-Curncy\n",
        "G10-FX;-Local-Markets___NZDCADV3M-Curncy\n",
        "G10-FX;-Local-Markets___NZDJPYH1M-Curncy\n",
        "G10-FX;-Local-Markets___NZDJPYV3M-Curncy\n",
        "G10-FX;-Local-Markets___NZDUSDH1M-Curncy\n",
        "G10-FX;-Local-Markets___NZDUSDV3M-Curncy\n",
        "G10-FX;-Local-Markets___SFCV10-Curncy\n",
        "G10-FX;-Local-Markets___USCV1-Curncy\n",
        "G10-FX;-Local-Markets___USCV10-Curncy\n",
        "G10-FX;-Local-Markets___USCV2-Curncy\n",
        "G10-FX;-Local-Markets___USCV3-Curncy\n",
        "G10-FX;-Local-Markets___USDBRLH1M-Curncy\n",
        "G10-FX;-Local-Markets___USDBRLV3M-Curncy\n",
        "G10-FX;-Local-Markets___USDCADH1M-Curncy\n",
        "G10-FX;-Local-Markets___USDCADV3M-Curncy\n",
        "G10-FX;-Local-Markets___USDCHFH1M-Curncy\n",
        "G10-FX;-Local-Markets___USDCHFV3M-Curncy\n",
        "G10-FX;-Local-Markets___USDCNHH1M-Curncy\n",
        "G10-FX;-Local-Markets___USDCNHV3M-Curncy\n",
        "G10-FX;-Local-Markets___USDCNYH1M-Curncy\n",
        "G10-FX;-Local-Markets___USDCNYV3M-Curncy\n",
        "G10-FX;-Local-Markets___USDHKDH1M-Curncy\n",
        "G10-FX;-Local-Markets___USDHKDV3M-Curncy\n",
        "G10-FX;-Local-Markets___USDHUFH1M-Curncy\n",
        "G10-FX;-Local-Markets___USDHUFV3M-Curncy\n",
        "G10-FX;-Local-Markets___USDILSH1M-Curncy\n",
        "G10-FX;-Local-Markets___USDILSV3M-Curncy\n",
        "G10-FX;-Local-Markets___USDINRH1M-Curncy\n",
        "G10-FX;-Local-Markets___USDINRV3M-Curncy\n",
        "G10-FX;-Local-Markets___USDJPYH1M-Curncy\n",
        "G10-FX;-Local-Markets___USDJPYV3M-Curncy\n",
        "G10-FX;-Local-Markets___USDKRWH1M-Curncy\n",
        "G10-FX;-Local-Markets___USDKRWV3M-Curncy\n",
        "G10-FX;-Local-Markets___USDMXNH1M-Curncy\n",
        "G10-FX;-Local-Markets___USDMXNV3M-Curncy\n",
        "G10-FX;-Local-Markets___USDNOKH1M-Curncy\n",
        "G10-FX;-Local-Markets___USDNOKV3M-Curncy\n",
        "G10-FX;-Local-Markets___USDPLNH1M-Curncy\n",
        "G10-FX;-Local-Markets___USDPLNV3M-Curncy\n",
        "G10-FX;-Local-Markets___USDRUBH1M-Curncy\n",
        "G10-FX;-Local-Markets___USDRUBV3M-Curncy\n",
        "G10-FX;-Local-Markets___USDSEKH1M-Curncy\n",
        "G10-FX;-Local-Markets___USDSEKV3M-Curncy\n",
        "G10-FX;-Local-Markets___USDSGDH1M-Curncy\n",
        "G10-FX;-Local-Markets___USDSGDV3M-Curncy\n",
        "G10-FX;-Local-Markets___USDTRYH1M-Curncy\n",
        "G10-FX;-Local-Markets___USDTRYV3M-Curncy\n",
        "G10-FX;-Local-Markets___USDTWDH1M-Curncy\n",
        "G10-FX;-Local-Markets___USDTWDV3M-Curncy\n",
        "G10-FX;-Local-Markets___USDZARH1M-Curncy\n",
        "G10-FX;-Local-Markets___USDZARV3M-Curncy\n",
        "G10-FX;-Local-Markets___USSOFED1-Curncy\n",
        "G10-FX;-Local-Markets___USSOFED2-Curncy\n",
        "Municipal-Markets__Bond-Buyer-Index_11-Bond-GO-Index\n",
        "Municipal-Markets__Bond-Buyer-Index_20-Bond-GO-Index\n",
        "Municipal-Markets__Bond-Buyer-Index_Revenue-Bond-Index\n",
        "Municipal-Markets__Muni-30-Year-Bloomberg-Index_BVMB30Y-Index\n",
        "Municipal-Markets__Negotiated-and-Comp-Issuances_#-of-Issuances\n",
        "Municipal-Markets__Negotiated-and-Comp-Issuances_Issuance-Amt-($MM)\n",
        "Rates___3-month-Libor-vs-3-month-OIS-(CALC)\n",
        "Rates___ADSN0110-Curncy\n",
        "Rates___ADSWAP10-Curncy\n",
        "Rates___BPSN0110-Curncy\n",
        "Rates___BPSN0510-Curncy\n",
        "Rates___BPSW10-Curncy\n",
        "Rates___BPSW2-Curncy\n",
        "Rates___BPSW5-Curncy\n",
        "Rates___CDSW10-Curncy\n",
        "Rates___CDX-IG-CDSI-GEN-5Y-Corp\n",
        "Rates___CL1-Comdty\n",
        "Rates___CSIICAD-Index\n",
        "Rates___EONIA-Index\n",
        "Rates___EUNE110-Curncy\n",
        "Rates___EUNE510-Curncy\n",
        "Rates___EURCHFV7Y-Curncy\n",
        "Rates___EUSA10-Curncy\n",
        "Rates___EUSA2-Curncy\n",
        "Rates___EUSA5-Curncy\n",
        "Rates___GACGB10-Index\n",
        "Rates___GBTPGR10-Index\n",
        "Rates___GCAN10YR-Index\n",
        "Rates___GCAN5YR-Index\n",
        "Rates___GDBR10-Index\n",
        "Rates___GDBR2-Index\n",
        "Rates___GDBR5-Index\n",
        "Rates___GJGB10-Index\n",
        "Rates___GSPG10YR-Index\n",
        "Rates___GTCAD10Y-Govt\n",
        "Rates___GTESP2Y-Govt\n",
        "Rates___GTESP5Y-Govt\n",
        "Rates___GTFRFII10Y-Govt\n",
        "Rates___GTGBP10Y-Govt\n",
        "Rates___GTGBP2Y-Govt\n",
        "Rates___GTGBP5Y-Govt\n",
        "Rates___GTGBPII10Y-Govt\n",
        "Rates___GTGRD10Y-Govt\n",
        "Rates___GTGRD5Y-Govt\n",
        "Rates___GTIEP10Y-Govt\n",
        "Rates___GTIEP2Y-Govt\n",
        "Rates___GTIEP5Y-Govt\n",
        "Rates___GTITL2Y-Govt\n",
        "Rates___GTITL5Y-Govt\n",
        "Rates___GTITLII10Y-Govt\n",
        "Rates___GTPTE10Y-Govt\n",
        "Rates___GTPTE2Y-Govt\n",
        "Rates___GTPTE5Y-Govt\n",
        "Rates___IBXXECVT-Index\n",
        "Rates___JYBS2-Curncy\n",
        "Rates___JYSN0110-Curncy\n",
        "Rates___JYSW10-Index\n",
        "Rates___NG1-Comdty\n",
        "Rates___SONIO/N-Index\n",
        "Rates___SPTSX-Index\n",
        "Rates___US0003M-Index\n",
        "Rates___USBA2-PREB-Curncy\n",
        "Rates___USBC2-PREB-Curncy\n",
        "Rates___USBG2-PREB-Curncy\n",
        "Rates___USDAUD-CMPN-Curncy\n",
        "Rates___USDCAD-CMPN-Curncy\n",
        "Rates___USDJPY-CMPN-Curncy\n",
        "Rates___USGG10YR-Index\n",
        "Rates___USGG2YR-Index\n",
        "Rates___USGG30YR-Index\n",
        "Rates___USGG3M-Index\n",
        "Rates___USGG5YR-Index\n",
        "Rates___USGG6M-Index\n",
        "Rates___USSN0110-Curncy\n",
        "Rates___USSN0510-Curncy\n",
        "Rates___USSN0A10-Curncy\n",
        "Rates___USSN1010-Curncy\n",
        "Rates___USSOC-Curncy\n",
        "Rates___USSW10-Curncy\n",
        "Rates___USSW2-Comdty\n",
        "Rates___USSW210-Curncy\n",
        "Rates___USSW230-Curncy\n",
        "Rates___USSW30-Curncy\n",
        "Rates___USSW5-Comdty\n",
        "Rates___USSWC-Curncy\n",
        "Rates___USSWF-Curncy\n",
        "___\n",
        "___Date.1\n",
        "Equities__VIX-Index_PX_LAST_Lag1\n",
        "Equities__VIX-Index_PX_LAST_Log\n",
        "Equities__VIX-Index_PX_LAST_Sq\n",
        "Equities__VIX-Index_PX_LAST_DiffLag5\n"
       ]
      }
     ],
     "prompt_number": 7
    },
    {
     "cell_type": "code",
     "collapsed": false,
     "input": [
      "#go through, and do pairwise cross correlations between each of these things. \n",
      "from sklearn import cluster, covariance, manifold\n",
      "edge_model = covariance.GraphLassoCV()\n",
      "X = f.copy()"
     ],
     "language": "python",
     "metadata": {},
     "outputs": [],
     "prompt_number": 23
    },
    {
     "cell_type": "code",
     "collapsed": false,
     "input": [
      "#do a ranked order list of the X\n",
      "cols_by_null_rank = sorted([(col,X[col].count()) for col in X.columns],key=lambda x: x[1])\n",
      "top_non_nulls = [col[0] for col in cols_by_null_rank  if \"Equities__\" in col[0] and col[1] > 5261 and '___Date' not in col[0]]"
     ],
     "language": "python",
     "metadata": {},
     "outputs": [],
     "prompt_number": 53
    },
    {
     "cell_type": "code",
     "collapsed": false,
     "input": [
      "#use only the X's columns that have a high Xd. \n",
      "Xd = X[top_non_nulls].dropna()\n",
      "Xd /= Xd.std(axis=0)"
     ],
     "language": "python",
     "metadata": {},
     "outputs": [],
     "prompt_number": 116
    },
    {
     "cell_type": "code",
     "collapsed": false,
     "input": [
      "edge_model.fit(Xd)\n",
      "partial_correlations = edge_model.precision_.copy()\n",
      "d = 1 / np.sqrt(np.diag(partial_correlations))\n",
      "partial_correlations *= d\n",
      "partial_correlations *= d[:, np.newaxis]\n",
      "non_zero = (np.abs(np.triu(partial_correlations, k=1)) > 0.02)\n"
     ],
     "language": "python",
     "metadata": {},
     "outputs": [],
     "prompt_number": 88
    },
    {
     "cell_type": "code",
     "collapsed": false,
     "input": [
      "import scipy.stats\n",
      "scipy.stats.describe(partial_correlations.reshape(partial_correlations.size))\n",
      "plt.hist(partial_correlations.reshape(partial_correlations.size),bins=100)\n",
      "#size of the data : int, length of data along axis\n",
      "# (min, max): tuple of ndarrays or floats\n",
      "# minimum and maximum value of data array\n",
      "# arithmetic mean : ndarray or float\n",
      "# mean of data along axis\n",
      "# unbiased variance : ndarray or float\n",
      "# variance of the data along axis, denominator is number of observations minus one.\n",
      "# biased skewness : ndarray or float\n",
      "# skewness, based on moment calculations with denominator equal to the number of observations, i.e. no degrees of freedom correction\n",
      "# biased kurtosis : ndarray or float\n",
      "# kurtosis (Fisher), the kurtosis is normali"
     ],
     "language": "python",
     "metadata": {},
     "outputs": [
      {
       "metadata": {},
       "output_type": "pyout",
       "prompt_number": 89,
       "text": [
        "(array([    2.,     6.,     2.,     2.,     0.,     2.,     0.,     0.,\n",
        "           0.,     2.,     4.,     2.,     2.,     0.,     0.,     6.,\n",
        "          12.,     8.,     4.,     0.,    10.,     4.,     8.,    12.,\n",
        "           8.,    12.,    38.,    22.,    10.,    32.,    60.,    58.,\n",
        "          68.,  1362.,    28.,    10.,     2.,     2.,     6.,     0.,\n",
        "           0.,     0.,     0.,     0.,     0.,     0.,     0.,     0.,\n",
        "           0.,     0.,     0.,     0.,     0.,     0.,     0.,     0.,\n",
        "           0.,     0.,     0.,     0.,     0.,     0.,     0.,     0.,\n",
        "           0.,     0.,     0.,     0.,     0.,     0.,     0.,     0.,\n",
        "           0.,     0.,     0.,     0.,     0.,     0.,     0.,     0.,\n",
        "           0.,     0.,     0.,     0.,     0.,     0.,     0.,     0.,\n",
        "           0.,     0.,     0.,     0.,     0.,     0.,     0.,     0.,\n",
        "           0.,     0.,     0.,    43.]),\n",
        " array([ -4.92603301e-01,  -4.77677268e-01,  -4.62751235e-01,\n",
        "        -4.47825202e-01,  -4.32899169e-01,  -4.17973136e-01,\n",
        "        -4.03047103e-01,  -3.88121070e-01,  -3.73195037e-01,\n",
        "        -3.58269004e-01,  -3.43342971e-01,  -3.28416938e-01,\n",
        "        -3.13490905e-01,  -2.98564872e-01,  -2.83638839e-01,\n",
        "        -2.68712806e-01,  -2.53786773e-01,  -2.38860740e-01,\n",
        "        -2.23934707e-01,  -2.09008674e-01,  -1.94082641e-01,\n",
        "        -1.79156608e-01,  -1.64230575e-01,  -1.49304542e-01,\n",
        "        -1.34378509e-01,  -1.19452476e-01,  -1.04526443e-01,\n",
        "        -8.96004095e-02,  -7.46743765e-02,  -5.97483435e-02,\n",
        "        -4.48223105e-02,  -2.98962775e-02,  -1.49702445e-02,\n",
        "        -4.42114854e-05,   1.48818215e-02,   2.98078545e-02,\n",
        "         4.47338875e-02,   5.96599205e-02,   7.45859536e-02,\n",
        "         8.95119866e-02,   1.04438020e-01,   1.19364053e-01,\n",
        "         1.34290086e-01,   1.49216119e-01,   1.64142152e-01,\n",
        "         1.79068185e-01,   1.93994218e-01,   2.08920251e-01,\n",
        "         2.23846284e-01,   2.38772317e-01,   2.53698350e-01,\n",
        "         2.68624383e-01,   2.83550416e-01,   2.98476449e-01,\n",
        "         3.13402482e-01,   3.28328515e-01,   3.43254548e-01,\n",
        "         3.58180581e-01,   3.73106614e-01,   3.88032647e-01,\n",
        "         4.02958680e-01,   4.17884713e-01,   4.32810746e-01,\n",
        "         4.47736779e-01,   4.62662812e-01,   4.77588845e-01,\n",
        "         4.92514878e-01,   5.07440911e-01,   5.22366944e-01,\n",
        "         5.37292977e-01,   5.52219010e-01,   5.67145043e-01,\n",
        "         5.82071076e-01,   5.96997109e-01,   6.11923142e-01,\n",
        "         6.26849175e-01,   6.41775208e-01,   6.56701241e-01,\n",
        "         6.71627274e-01,   6.86553307e-01,   7.01479340e-01,\n",
        "         7.16405373e-01,   7.31331406e-01,   7.46257439e-01,\n",
        "         7.61183472e-01,   7.76109505e-01,   7.91035538e-01,\n",
        "         8.05961571e-01,   8.20887604e-01,   8.35813637e-01,\n",
        "         8.50739670e-01,   8.65665703e-01,   8.80591736e-01,\n",
        "         8.95517769e-01,   9.10443802e-01,   9.25369835e-01,\n",
        "         9.40295868e-01,   9.55221901e-01,   9.70147934e-01,\n",
        "         9.85073967e-01,   1.00000000e+00]),\n",
        " <a list of 100 Patch objects>)"
       ]
      },
      {
       "metadata": {},
       "output_type": "display_data",
       "png": "[encoded data removed]",
       "text": [
        "<matplotlib.figure.Figure at 0x10c3c8150>"
       ]
      }
     ],
     "prompt_number": 89
    },
    {
     "cell_type": "code",
     "collapsed": false,
     "input": [
      "print partial_correlations\n",
      "import matplotlib.pyplot as plt\n",
      "pcolor(partial_correlations)\n"
     ],
     "language": "python",
     "metadata": {},
     "outputs": [
      {
       "output_type": "stream",
       "stream": "stdout",
       "text": [
        "[[  1.00000000e+00  -2.50543472e-01  -2.18350600e-02 ...,  -0.00000000e+00\n",
        "   -0.00000000e+00  -0.00000000e+00]\n",
        " [ -2.50543472e-01   1.00000000e+00  -0.00000000e+00 ...,  -0.00000000e+00\n",
        "   -0.00000000e+00  -0.00000000e+00]\n",
        " [ -2.18350600e-02  -0.00000000e+00   1.00000000e+00 ...,   0.00000000e+00\n",
        "    1.10224535e-03   0.00000000e+00]\n",
        " ..., \n",
        " [ -0.00000000e+00  -0.00000000e+00   0.00000000e+00 ...,   1.00000000e+00\n",
        "   -2.52530529e-01  -2.53940474e-01]\n",
        " [ -0.00000000e+00  -0.00000000e+00   1.10224535e-03 ...,  -2.52530529e-01\n",
        "    1.00000000e+00  -3.62196302e-04]\n",
        " [ -0.00000000e+00  -0.00000000e+00   0.00000000e+00 ...,  -2.53940474e-01\n",
        "   -3.62196302e-04   1.00000000e+00]]\n"
       ]
      },
      {
       "metadata": {},
       "output_type": "pyout",
       "prompt_number": 65,
       "text": [
        "<matplotlib.collections.PolyCollection at 0x10998b750>"
       ]
      },
      {
       "metadata": {},
       "output_type": "display_data",
       "png": "[encoded data removed]",
       "text": [
        "<matplotlib.figure.Figure at 0x107dd6050>"
       ]
      }
     ],
     "prompt_number": 65
    },
    {
     "cell_type": "code",
     "collapsed": false,
     "input": [
      "node_position_model = manifold.LocallyLinearEmbedding(\n",
      "    n_components=2, eigen_solver='dense', n_neighbors=6)\n",
      "\n",
      "embedding = node_position_model.fit_transform(Xd.T).T"
     ],
     "language": "python",
     "metadata": {},
     "outputs": [],
     "prompt_number": 57
    },
    {
     "cell_type": "code",
     "collapsed": false,
     "input": [
      "pl.figure(1, facecolor='w', figsize=(10, 8))\n",
      "pl.clf()\n",
      "ax = pl.axes([0., 0., 1., 1.])\n",
      "pl.axis('off')\n",
      "\n",
      "# Plot the nodes using the coordinates of our embedding\n",
      "pl.scatter(embedding[0], embedding[1], s=100 * d ** 2,\n",
      "           cmap=pl.cm.spectral)\n",
      "\n",
      "# Plot the edges\n",
      "start_idx, end_idx = np.where(non_zero)\n",
      "#a sequence of (*line0*, *line1*, *line2*), where::\n",
      "#            linen = (x0, y0), (x1, y1), ... (xm, ym)\n",
      "segments = [[embedding[:, start], embedding[:, stop]]\n",
      "            for start, stop in zip(start_idx, end_idx)]\n",
      "values = np.abs(partial_correlations[non_zero])\n",
      "lc = LineCollection(segments,\n",
      "                    zorder=0, cmap=pl.cm.hot_r,\n",
      "                    norm=pl.Normalize(0, .7 * values.max()))\n",
      "lc.set_array(values)\n",
      "lc.set_linewidths(15 * values)\n",
      "ax.add_collection(lc)"
     ],
     "language": "python",
     "metadata": {},
     "outputs": [
      {
       "metadata": {},
       "output_type": "pyout",
       "prompt_number": 62,
       "text": [
        "<matplotlib.collections.LineCollection at 0x107e074d0>"
       ]
      },
      {
       "metadata": {},
       "output_type": "display_data",
       "png": "[encoded data removed]",
       "text": [
        "<matplotlib.figure.Figure at 0x109080750>"
       ]
      }
     ],
     "prompt_number": 62
    },
    {
     "cell_type": "code",
     "collapsed": false,
     "input": [
      "#Linear regression - designate a column\n",
      "from sklearn.linear_model import LinearRegression\n",
      "from sklearn.linear_model import ElasticNet"
     ],
     "language": "python",
     "metadata": {},
     "outputs": [],
     "prompt_number": 142
    },
    {
     "cell_type": "code",
     "collapsed": false,
     "input": [
      "outcome = Xd['Equities___VIX']\n",
      "data = Xd.drop('Equities___VIX',axis=1)\n",
      "trainX = data.ix[:2500,:]\n",
      "trainY = outcome.ix[:2500]\n",
      "testX = data.ix[2500:,:]\n",
      "testY = outcome.ix[2500:]"
     ],
     "language": "python",
     "metadata": {},
     "outputs": [],
     "prompt_number": 118
    },
    {
     "cell_type": "code",
     "collapsed": false,
     "input": [
      "model = LinearRegression()\n",
      "E_net = ElasticNet()"
     ],
     "language": "python",
     "metadata": {},
     "outputs": [],
     "prompt_number": 143
    },
    {
     "cell_type": "code",
     "collapsed": false,
     "input": [
      "model.fit(trainX,trainY)\n",
      "E_net.fit(trainX,trainY)"
     ],
     "language": "python",
     "metadata": {},
     "outputs": [
      {
       "metadata": {},
       "output_type": "pyout",
       "prompt_number": 144,
       "text": [
        "ElasticNet(alpha=1.0, copy_X=True, fit_intercept=True, l1_ratio=0.5,\n",
        "      max_iter=1000, normalize=False, positive=False, precompute='auto',\n",
        "      rho=None, tol=0.0001, warm_start=False)"
       ]
      }
     ],
     "prompt_number": 144
    },
    {
     "cell_type": "code",
     "collapsed": false,
     "input": [
      "print model.score(testX,testY)\n",
      "print E_net.score(testX,testY)"
     ],
     "language": "python",
     "metadata": {},
     "outputs": [
      {
       "output_type": "stream",
       "stream": "stdout",
       "text": [
        "0.994780850056\n",
        "0.194934553126\n"
       ]
      }
     ],
     "prompt_number": 146
    },
    {
     "cell_type": "code",
     "collapsed": false,
     "input": [
      "plt.plot(model.coef_)\n",
      "assert(len(model.coef_)==len(testX.columns))\n",
      "for col, coef in zip(testX.columns,model.coef_):\n",
      "    if abs(coef) > 2:\n",
      "        print col, coef"
     ],
     "language": "python",
     "metadata": {},
     "outputs": [
      {
       "output_type": "stream",
       "stream": "stdout",
       "text": [
        "Equities___AXJO -2.37332312954\n",
        "Equities___FTSE 2.25502496197\n",
        "Equities___HSI -4.6902806416\n",
        "Equities___IXIC 4.63332780055\n",
        "Equities__AS51-Index_PX_LAST 2.3816224104\n",
        "Equities__CCMP-Index_PX_LAST -4.6419473396\n",
        "Equities__HSI-Index_PX_LAST 4.68458082517\n",
        "Equities__UKX-Index_PX_LAST -2.24739259992\n"
       ]
      },
      {
       "metadata": {},
       "output_type": "display_data",
       "png": "[encoded data removed]",
       "text": [
        "<matplotlib.figure.Figure at 0x10fc5ad90>"
       ]
      }
     ],
     "prompt_number": 137
    },
    {
     "cell_type": "code",
     "collapsed": false,
     "input": [
      "plt.plot(E_net.coef_)\n",
      "assert(len(E_net.coef_)==len(testX.columns))\n",
      "for col, coef in zip(testX.columns,E_net.coef_):\n",
      "    print col, coef"
     ],
     "language": "python",
     "metadata": {},
     "outputs": [
      {
       "output_type": "stream",
       "stream": "stdout",
       "text": [
        "Equities___000001.SS 0.0\n",
        "Equities___399001.SZ 0.0\n",
        "Equities___AXJO -0\n",
        "Equities___BSESN -0\n",
        "Equities___BVSP -0\n",
        "Equities___DJI -0\n",
        "Equities___FCHI -0\n",
        "Equities___FTSE -0\n",
        "Equities___GDAXI -0\n",
        "Equities___GSPC -0\n",
        "Equities___HSI -0\n",
        "Equities___IXIC -0\n",
        "Equities___KS11 -0\n",
        "Equities___N225 -0\n",
        "Equities___RTS.RS -0\n",
        "Equities___STOXX50E 0.0\n",
        "Equities___TWII -0\n",
        "Equities__VIX-Index_PX_LAST_Lag1 0.0\n",
        "Equities__AS51-Index_PX_LAST -0\n",
        "Equities__CAC-Index_PX_LAST -0\n",
        "Equities__CAC-Index_PX_VOLUME -0\n",
        "Equities__CCMP-Index_PX_LAST -0\n",
        "Equities__CCMP-Index_PX_VOLUME 0.0\n",
        "Equities__HSI-Index_PX_LAST -0\n",
        "Equities__HSI-Index_PX_VOLUME -0\n",
        "Equities__INDU-Index_PX_LAST -0\n",
        "Equities__INDU-Index_PX_VOLUME 0.0\n",
        "Equities__KOSPI-Index_PX_LAST -0\n",
        "Equities__KOSPI-Index_PX_VOLUME 0.0\n",
        "Equities__NKY-Index_PX_LAST -0\n",
        "Equities__NKY-Index_PX_VOLUME -0\n",
        "Equities__SHCOMP-Index_PX_LAST 0.0\n",
        "Equities__SHCOMP-Index_PX_VOLUME -0\n",
        "Equities__SPX-Index_PX_LAST -0\n",
        "Equities__SPX-Index_PX_VOLUME 0.0\n",
        "Equities__TWSE-Index_PX_LAST -0\n",
        "Equities__TWSE-Index_PX_VOLUME -0\n",
        "Equities__UKX-Index_PX_LAST -0\n",
        "Equities__UKX-Index_PX_VOLUME -0\n",
        "Equities__VIX-Index_PX_LAST 0.0\n",
        "Equities__VIX-Index_PX_LAST_Log 0.138520489065\n",
        "Equities__VIX-Index_PX_LAST_Sq 0.0\n"
       ]
      },
      {
       "metadata": {},
       "output_type": "display_data",
       "png": "[encoded data removed]",
       "text": [
        "<matplotlib.figure.Figure at 0x10fc84290>"
       ]
      }
     ],
     "prompt_number": 149
    },
    {
     "cell_type": "code",
     "collapsed": false,
     "input": [
      "testX[['Equities___IXIC','Equities__CCMP-Index_PX_LAST']].head()"
     ],
     "language": "python",
     "metadata": {},
     "outputs": [
      {
       "html": [
        "<div style=\"max-height:1000px;max-width:1500px;overflow:auto;\">\n",
        "<table border=\"1\" class=\"dataframe\">\n",
        "  <thead>\n",
        "    <tr style=\"text-align: right;\">\n",
        "      <th></th>\n",
        "      <th>Equities___IXIC</th>\n",
        "      <th>Equities__CCMP-Index_PX_LAST</th>\n",
        "    </tr>\n",
        "  </thead>\n",
        "  <tbody>\n",
        "    <tr>\n",
        "      <th>2500</th>\n",
        "      <td> 3.144384</td>\n",
        "      <td> 3.144836</td>\n",
        "    </tr>\n",
        "    <tr>\n",
        "      <th>2501</th>\n",
        "      <td> 3.191817</td>\n",
        "      <td> 3.192055</td>\n",
        "    </tr>\n",
        "    <tr>\n",
        "      <th>2502</th>\n",
        "      <td> 3.205213</td>\n",
        "      <td> 3.205547</td>\n",
        "    </tr>\n",
        "    <tr>\n",
        "      <th>2503</th>\n",
        "      <td> 3.217436</td>\n",
        "      <td> 3.217689</td>\n",
        "    </tr>\n",
        "    <tr>\n",
        "      <th>2504</th>\n",
        "      <td> 3.205389</td>\n",
        "      <td> 3.205547</td>\n",
        "    </tr>\n",
        "  </tbody>\n",
        "</table>\n",
        "</div>"
       ],
       "metadata": {},
       "output_type": "pyout",
       "prompt_number": 141,
       "text": [
        "      Equities___IXIC  Equities__CCMP-Index_PX_LAST\n",
        "2500         3.144384                      3.144836\n",
        "2501         3.191817                      3.192055\n",
        "2502         3.205213                      3.205547\n",
        "2503         3.217436                      3.217689\n",
        "2504         3.205389                      3.205547"
       ]
      }
     ],
     "prompt_number": 141
    },
    {
     "cell_type": "code",
     "collapsed": false,
     "input": [
      "from sklearn.feature_selection import f_regression"
     ],
     "language": "python",
     "metadata": {},
     "outputs": [],
     "prompt_number": 126
    },
    {
     "cell_type": "code",
     "collapsed": false,
     "input": [
      "regressor = f_regression(trainX,trainY)"
     ],
     "language": "python",
     "metadata": {},
     "outputs": [],
     "prompt_number": 128
    },
    {
     "cell_type": "code",
     "collapsed": false,
     "input": [
      "plt.plot(regressor[1])"
     ],
     "language": "python",
     "metadata": {},
     "outputs": [
      {
       "metadata": {},
       "output_type": "pyout",
       "prompt_number": 132,
       "text": [
        "[<matplotlib.lines.Line2D at 0x10f4060d0>]"
       ]
      },
      {
       "metadata": {},
       "output_type": "display_data",
       "png": "[encoded data removed]",
       "text": [
        "<matplotlib.figure.Figure at 0x10f3e1e50>"
       ]
      }
     ],
     "prompt_number": 132
    },
    {
     "cell_type": "code",
     "collapsed": false,
     "input": [],
     "language": "python",
     "metadata": {},
     "outputs": []
    }
   ],
   "metadata": {}
  }
 ]
}